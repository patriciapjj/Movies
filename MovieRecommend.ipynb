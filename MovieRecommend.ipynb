{
 "cells": [
  {
   "cell_type": "code",
   "execution_count": 4,
   "id": "47b43980-4d43-4da0-8cf6-4cabbb36b7b4",
   "metadata": {},
   "outputs": [
    {
     "name": "stdout",
     "output_type": "stream",
     "text": [
      "Training recommendation model...\n",
      "Top 10 recommendations for user ID 6:\n",
      "Angel Baby (1995): 6.486196517944336\n",
      "Mina Tannenbaum (1994): 5.871776103973389\n",
      "Old Man and the Sea, The (1958): 5.560771465301514\n",
      "Underneath, The (1995): 5.533425807952881\n",
      "Love and Death on Long Island (1997): 5.529603958129883\n",
      "Boys, Les (1997): 5.509486198425293\n",
      "In the Bleak Midwinter (1995): 5.403690338134766\n",
      "Shooting Fish (1997): 5.364198684692383\n",
      "Umbrellas of Cherbourg, The (Parapluies de Cherbourg, Les) (1964): 5.194911479949951\n",
      "Paradise Lost: The Child Murders at Robin Hood Hills (1996): 5.178156852722168\n"
     ]
    }
   ],
   "source": [
    "# Using Spark ML to Produce Movie Recommendations\n",
    "\n",
    "from pyspark.sql import SparkSession\n",
    "from pyspark.sql.types import StructType, StructField, IntegerType, LongType\n",
    "from pyspark.ml.recommendation import ALS\n",
    "import codecs\n",
    "\n",
    "def load_movie_names():\n",
    "    # Load movie names from the u.ITEM file and return a dictionary mapping movie IDs to movie titles.\n",
    "    movie_names = {}\n",
    "    with codecs.open(\"C:/SparkCourse/ml-100k/u.ITEM\", \"r\", encoding='ISO-8859-1', errors='ignore') as f:\n",
    "        for line in f:\n",
    "            fields = line.split('|')\n",
    "            movie_names[int(fields[0])] = fields[1]\n",
    "    return movie_names\n",
    "\n",
    "def main():\n",
    "    # Initialize Spark session\n",
    "    spark = SparkSession.builder.appName(\"ALSMovie\").getOrCreate()\n",
    "\n",
    "    # Define schema for the ratings data\n",
    "    movies_schema = StructType([\n",
    "        StructField(\"userID\", IntegerType(), True),\n",
    "        StructField(\"movieID\", IntegerType(), True),\n",
    "        StructField(\"rating\", IntegerType(), True),\n",
    "        StructField(\"timestamp\", LongType(), True)\n",
    "    ])\n",
    "\n",
    "    # Load movie names and ratings data\n",
    "    movie_names = load_movie_names()\n",
    "    ratings = spark.read \\\n",
    "        .option(\"sep\", \"\\t\") \\\n",
    "        .schema(movies_schema) \\\n",
    "        .csv(\"file:///SparkCourse/ml-100k/u.data\")\n",
    "\n",
    "    print(\"Training recommendation model...\")\n",
    "\n",
    "    # Configure ALS model\n",
    "    als = ALS(maxIter=5, regParam=0.01, userCol=\"userID\", itemCol=\"movieID\", ratingCol=\"rating\")\n",
    "\n",
    "    # Train the ALS model\n",
    "    model = als.fit(ratings)\n",
    "\n",
    "    # Specify the user ID to recommend movies for\n",
    "    user_id = 6\n",
    "    user_schema = StructType([StructField(\"userID\", IntegerType(), True)])\n",
    "    users = spark.createDataFrame([[user_id]], user_schema)\n",
    "\n",
    "    # Generate recommendations for the specified user\n",
    "    recommendations = model.recommendForUserSubset(users, 10).collect()\n",
    "\n",
    "    print(f\"Top 10 recommendations for user ID {user_id}:\")\n",
    "\n",
    "    # Display recommendations\n",
    "    for user_recs in recommendations:\n",
    "        movie_recs = user_recs[1]  # user_recs is (userID, [Row(movieId, rating), Row(movieID, rating)...])\n",
    "        for rec in movie_recs:  # movie_recs is the list of recommendations for the user\n",
    "            movie_id = rec[0]  # Extract movie ID\n",
    "            rating = rec[1]  # Extract rating\n",
    "            movie_name = movie_names.get(movie_id, \"Unknown Movie\")\n",
    "            print(f\"{movie_name}: {rating}\")\n",
    "\n",
    "if __name__ == \"__main__\":\n",
    "    main()\n"
   ]
  },
  {
   "cell_type": "code",
   "execution_count": null,
   "id": "410f1750-87a3-46c6-b633-61d3a338af51",
   "metadata": {},
   "outputs": [],
   "source": []
  }
 ],
 "metadata": {
  "kernelspec": {
   "display_name": "Python 3 (ipykernel)",
   "language": "python",
   "name": "python3"
  },
  "language_info": {
   "codemirror_mode": {
    "name": "ipython",
    "version": 3
   },
   "file_extension": ".py",
   "mimetype": "text/x-python",
   "name": "python",
   "nbconvert_exporter": "python",
   "pygments_lexer": "ipython3",
   "version": "3.10.11"
  }
 },
 "nbformat": 4,
 "nbformat_minor": 5
}
